{
 "cells": [
  {
   "cell_type": "code",
   "execution_count": 2,
   "id": "932508ef",
   "metadata": {},
   "outputs": [
    {
     "name": "stdout",
     "output_type": "stream",
     "text": [
      "Enter:i like\n",
      "hi\n",
      "pos\n"
     ]
    }
   ],
   "source": [
    "from sklearn.model_selection import train_test_split\n",
    "from sklearn.metrics import accuracy_score,precision_score,recall_score,confusion_matrix\n",
    "import pandas as pd\n",
    "from sklearn.naive_bayes import MultinomialNB\n",
    "from sklearn.model_selection import train_test_split\n",
    "from sklearn.feature_extraction.text import CountVectorizer\n",
    "\n",
    "msg=pd.read_csv(\"C:/Users/91938/7th.csv.txt\",names=['message','label'])\n",
    "\n",
    "msg['label']=msg.label.map({'pos':1,'neg':0})\n",
    "\n",
    "x=msg['message']\n",
    "y=msg['label']\n",
    "\n",
    "xtrain,xtest,ytrain,ytest=train_test_split(x,y)\n",
    "\n",
    "cv=CountVectorizer()\n",
    "xtrain_dim=cv.fit_transform(xtrain)\n",
    "xtest_dim=cv.transform(xtest)\n",
    "\n",
    "mnb=MultinomialNB()\n",
    "mnb.fit(xtrain_dim,ytrain)\n",
    "\n",
    "stmt=[input(\"Enter:\")]\n",
    "print(\"hi\")\n",
    "\n",
    "stm_dim=cv.transform(stmt)\n",
    "pre=mnb.predict(stm_dim)\n",
    "\n",
    "for a,x in zip(stmt,pre):\n",
    "    if x==1:\n",
    "        print (\"pos\")\n",
    "    else:\n",
    "        print(\"neg\")"
   ]
  },
  {
   "cell_type": "code",
   "execution_count": 7,
   "id": "a9c9729b",
   "metadata": {},
   "outputs": [
    {
     "data": {
      "text/plain": [
       "2"
      ]
     },
     "execution_count": 7,
     "metadata": {},
     "output_type": "execute_result"
    }
   ],
   "source": [
    "xtrain_dim.ndim"
   ]
  },
  {
   "cell_type": "code",
   "execution_count": 8,
   "id": "74a47a42",
   "metadata": {},
   "outputs": [
    {
     "data": {
      "text/plain": [
       "1"
      ]
     },
     "execution_count": 8,
     "metadata": {},
     "output_type": "execute_result"
    }
   ],
   "source": [
    "xtrain.ndim"
   ]
  },
  {
   "cell_type": "code",
   "execution_count": 10,
   "id": "6fd542bf",
   "metadata": {},
   "outputs": [
    {
     "name": "stdout",
     "output_type": "stream",
     "text": [
      "  (0, 9)\t1\n",
      "  (0, 28)\t1\n",
      "  (0, 24)\t1\n",
      "  (0, 35)\t1\n",
      "  (0, 33)\t1\n",
      "  (0, 29)\t1\n",
      "  (0, 36)\t1\n",
      "  (0, 23)\t1\n",
      "  (1, 36)\t1\n",
      "  (1, 16)\t1\n",
      "  (1, 11)\t1\n",
      "  (2, 42)\t1\n",
      "  (2, 14)\t1\n",
      "  (2, 18)\t1\n",
      "  (3, 36)\t1\n",
      "  (3, 21)\t1\n",
      "  (3, 27)\t1\n",
      "  (3, 4)\t1\n",
      "  (3, 45)\t1\n",
      "  (4, 21)\t1\n",
      "  (4, 34)\t1\n",
      "  (4, 3)\t1\n",
      "  (4, 25)\t1\n",
      "  (4, 38)\t1\n",
      "  (4, 32)\t1\n",
      "  :\t:\n",
      "  (7, 6)\t1\n",
      "  (7, 8)\t1\n",
      "  (7, 44)\t1\n",
      "  (8, 10)\t1\n",
      "  (8, 40)\t1\n",
      "  (8, 15)\t1\n",
      "  (9, 0)\t1\n",
      "  (9, 31)\t1\n",
      "  (9, 2)\t1\n",
      "  (9, 37)\t1\n",
      "  (10, 41)\t1\n",
      "  (10, 43)\t1\n",
      "  (10, 17)\t1\n",
      "  (10, 13)\t1\n",
      "  (10, 12)\t1\n",
      "  (10, 39)\t1\n",
      "  (11, 21)\t1\n",
      "  (11, 27)\t1\n",
      "  (11, 30)\t1\n",
      "  (11, 19)\t1\n",
      "  (12, 42)\t1\n",
      "  (12, 21)\t1\n",
      "  (12, 1)\t1\n",
      "  (12, 20)\t1\n",
      "  (12, 22)\t1\n"
     ]
    }
   ],
   "source": [
    "print(xtrain_dim)"
   ]
  },
  {
   "cell_type": "code",
   "execution_count": 11,
   "id": "aa6035f4",
   "metadata": {},
   "outputs": [
    {
     "name": "stdout",
     "output_type": "stream",
     "text": [
      "10    I do not like the taste of this juice\n",
      "17                         I hate this food\n",
      "14                     What a great holiday\n",
      "3                      This is my best work\n",
      "15           That is a bad locality to stay\n",
      "1                       I like this biryani\n",
      "13                          I love to dance\n",
      "6                    I can't deal with this\n",
      "2                         I feel very happy\n",
      "12                      I am sick and tired\n",
      "16           We will have good fun tomorrow\n",
      "8                      My place is horrible\n",
      "7                        What an idea it is\n",
      "Name: message, dtype: object\n"
     ]
    }
   ],
   "source": [
    "print(xtrain)"
   ]
  },
  {
   "cell_type": "code",
   "execution_count": null,
   "id": "63bd3553",
   "metadata": {},
   "outputs": [],
   "source": []
  }
 ],
 "metadata": {
  "kernelspec": {
   "display_name": "Python 3 (ipykernel)",
   "language": "python",
   "name": "python3"
  },
  "language_info": {
   "codemirror_mode": {
    "name": "ipython",
    "version": 3
   },
   "file_extension": ".py",
   "mimetype": "text/x-python",
   "name": "python",
   "nbconvert_exporter": "python",
   "pygments_lexer": "ipython3",
   "version": "3.11.3"
  }
 },
 "nbformat": 4,
 "nbformat_minor": 5
}
